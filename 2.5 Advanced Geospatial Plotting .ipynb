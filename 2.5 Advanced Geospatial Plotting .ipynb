{
 "cells": [
  {
   "cell_type": "markdown",
   "id": "959b5d88-4a61-4b29-9f04-d0bc97c7ba2e",
   "metadata": {},
   "source": [
    "## 2.5 Advanced Geospatial Plotting"
   ]
  },
  {
   "cell_type": "markdown",
   "id": "9a3ca61a-fde2-4bb4-90bb-34730c9bee12",
   "metadata": {},
   "source": [
    "### Importing libraries and data"
   ]
  },
  {
   "cell_type": "code",
   "execution_count": 1,
   "id": "e7c3c303-58df-47cc-aa10-614e064b6883",
   "metadata": {},
   "outputs": [],
   "source": [
    "# Import libraries\n",
    "import pandas as pd\n",
    "import os\n",
    "from keplergl import KeplerGl\n",
    "from pyproj import CRS\n",
    "import numpy as np\n",
    "from matplotlib import pyplot as plt\n",
    "import json"
   ]
  },
  {
   "cell_type": "code",
   "execution_count": 2,
   "id": "1028ade7-a93f-4511-aa59-6c1bde617a0a",
   "metadata": {},
   "outputs": [],
   "source": [
    "# Creating file path using os and uploading the dataset in chunks\n",
    "# Creating path to import dataset\n",
    "path = r'C:\\Users\\ariel\\OneDrive\\Desktop\\School work\\Data Visualizations with Python'"
   ]
  },
  {
   "cell_type": "code",
   "execution_count": 3,
   "id": "aa2fd833-dd56-44aa-bf62-abe5123992fc",
   "metadata": {},
   "outputs": [],
   "source": [
    "file_name = 'citibike_data.csv'"
   ]
  },
  {
   "cell_type": "code",
   "execution_count": 4,
   "id": "2ac7720b-a806-4573-bda0-b696b7e0e26d",
   "metadata": {},
   "outputs": [],
   "source": [
    "dataset_path = os.path.join(path, file_name)"
   ]
  },
  {
   "cell_type": "code",
   "execution_count": 5,
   "id": "3880ffa0-39f7-4eab-a916-a9ac5a1f3c55",
   "metadata": {},
   "outputs": [],
   "source": [
    "# loading data in chunks\n",
    "chunk_size = 100000  \n",
    "chunks = pd.read_csv(dataset_path, chunksize=chunk_size, low_memory=False)"
   ]
  },
  {
   "cell_type": "code",
   "execution_count": 6,
   "id": "2a59a4ad-3d26-4c5e-890d-1e4e68fcaa19",
   "metadata": {},
   "outputs": [],
   "source": [
    "all_data = []"
   ]
  },
  {
   "cell_type": "code",
   "execution_count": 7,
   "id": "985ff4ae-1300-4dfb-9cdd-5181dd564b7c",
   "metadata": {},
   "outputs": [],
   "source": [
    "# Loop through each chunk and store it\n",
    "for chunk in chunks:\n",
    "    all_data.append(chunk)"
   ]
  },
  {
   "cell_type": "code",
   "execution_count": 8,
   "id": "0af66e93-455c-4456-aa97-56428fd85aee",
   "metadata": {},
   "outputs": [],
   "source": [
    "# Concatenate them into one DataFrame\n",
    "df = pd.concat(all_data, ignore_index=True)"
   ]
  },
  {
   "cell_type": "markdown",
   "id": "2e859f83-e6ba-4770-ad26-2a3dd6b53283",
   "metadata": {},
   "source": [
    "### Data preprocessing"
   ]
  },
  {
   "cell_type": "code",
   "execution_count": 9,
   "id": "84cae931-0660-4ae5-ac1c-d1281c79ab13",
   "metadata": {},
   "outputs": [
    {
     "data": {
      "text/plain": [
       "Index(['ride_id', 'rideable_type', 'start_time', 'end_time',\n",
       "       'start_station_name', 'start_station_id', 'end_station_name',\n",
       "       'end_station_id', 'start_lat', 'start_lng', 'end_lat', 'end_lng',\n",
       "       'member_casual', 'date', 'avgTemp', 'ride_duration', 'end_year',\n",
       "       'end_month', 'end_day', 'end_weekday', 'end_hour', 'start_year',\n",
       "       'start_month', 'start_day', 'start_weekday', 'start_hour'],\n",
       "      dtype='object')"
      ]
     },
     "execution_count": 9,
     "metadata": {},
     "output_type": "execute_result"
    }
   ],
   "source": [
    "df.columns"
   ]
  },
  {
   "cell_type": "code",
   "execution_count": 10,
   "id": "e994dbef-661b-48c9-91df-bea548bdfb46",
   "metadata": {},
   "outputs": [
    {
     "data": {
      "text/plain": [
       "(29768282, 26)"
      ]
     },
     "execution_count": 10,
     "metadata": {},
     "output_type": "execute_result"
    }
   ],
   "source": [
    "df.shape"
   ]
  },
  {
   "cell_type": "code",
   "execution_count": 9,
   "id": "86e28311-2a8c-407c-b37b-50866212d5d0",
   "metadata": {},
   "outputs": [],
   "source": [
    "# Create a randomized sample dataset using 5% of full dataset for this analysis\n",
    "df_sample = df.sample(frac=0.05, random_state=42)"
   ]
  },
  {
   "cell_type": "code",
   "execution_count": 12,
   "id": "17a067ab-8fa8-46ed-8bc9-c41ff42ce60b",
   "metadata": {
    "scrolled": true
   },
   "outputs": [
    {
     "data": {
      "text/html": [
       "<div>\n",
       "<style scoped>\n",
       "    .dataframe tbody tr th:only-of-type {\n",
       "        vertical-align: middle;\n",
       "    }\n",
       "\n",
       "    .dataframe tbody tr th {\n",
       "        vertical-align: top;\n",
       "    }\n",
       "\n",
       "    .dataframe thead th {\n",
       "        text-align: right;\n",
       "    }\n",
       "</style>\n",
       "<table border=\"1\" class=\"dataframe\">\n",
       "  <thead>\n",
       "    <tr style=\"text-align: right;\">\n",
       "      <th></th>\n",
       "      <th>ride_id</th>\n",
       "      <th>rideable_type</th>\n",
       "      <th>start_time</th>\n",
       "      <th>end_time</th>\n",
       "      <th>start_station_name</th>\n",
       "      <th>start_station_id</th>\n",
       "      <th>end_station_name</th>\n",
       "      <th>end_station_id</th>\n",
       "      <th>start_lat</th>\n",
       "      <th>start_lng</th>\n",
       "      <th>...</th>\n",
       "      <th>end_year</th>\n",
       "      <th>end_month</th>\n",
       "      <th>end_day</th>\n",
       "      <th>end_weekday</th>\n",
       "      <th>end_hour</th>\n",
       "      <th>start_year</th>\n",
       "      <th>start_month</th>\n",
       "      <th>start_day</th>\n",
       "      <th>start_weekday</th>\n",
       "      <th>start_hour</th>\n",
       "    </tr>\n",
       "  </thead>\n",
       "  <tbody>\n",
       "    <tr>\n",
       "      <th>26912495</th>\n",
       "      <td>4337FD4D0A20576C</td>\n",
       "      <td>electric_bike</td>\n",
       "      <td>2022-11-23 08:40:22.577</td>\n",
       "      <td>2022-11-23 08:58:17.192</td>\n",
       "      <td>W 100 St &amp; Manhattan Ave</td>\n",
       "      <td>7538.14</td>\n",
       "      <td>W 33 St &amp; 10 Ave</td>\n",
       "      <td>6492.04</td>\n",
       "      <td>40.794934</td>\n",
       "      <td>-73.964464</td>\n",
       "      <td>...</td>\n",
       "      <td>2022</td>\n",
       "      <td>11</td>\n",
       "      <td>23</td>\n",
       "      <td>2</td>\n",
       "      <td>8</td>\n",
       "      <td>2022</td>\n",
       "      <td>11</td>\n",
       "      <td>23</td>\n",
       "      <td>2</td>\n",
       "      <td>8</td>\n",
       "    </tr>\n",
       "    <tr>\n",
       "      <th>2342555</th>\n",
       "      <td>FB88D9E61B43D316</td>\n",
       "      <td>classic_bike</td>\n",
       "      <td>2022-03-24 15:27:51.105</td>\n",
       "      <td>2022-03-24 15:45:51.560</td>\n",
       "      <td>Hanson Pl &amp; Ashland Pl</td>\n",
       "      <td>4395.07</td>\n",
       "      <td>Pioneer St &amp; Van Brunt St</td>\n",
       "      <td>4169.04</td>\n",
       "      <td>40.685068</td>\n",
       "      <td>-73.977908</td>\n",
       "      <td>...</td>\n",
       "      <td>2022</td>\n",
       "      <td>3</td>\n",
       "      <td>24</td>\n",
       "      <td>3</td>\n",
       "      <td>15</td>\n",
       "      <td>2022</td>\n",
       "      <td>3</td>\n",
       "      <td>24</td>\n",
       "      <td>3</td>\n",
       "      <td>15</td>\n",
       "    </tr>\n",
       "    <tr>\n",
       "      <th>27834596</th>\n",
       "      <td>5544DB17A0D093A9</td>\n",
       "      <td>classic_bike</td>\n",
       "      <td>2022-11-28 11:57:41.365</td>\n",
       "      <td>2022-11-28 12:10:47.169</td>\n",
       "      <td>E 67 St &amp; Park Ave</td>\n",
       "      <td>6932.14</td>\n",
       "      <td>Grand Army Plaza &amp; Central Park S</td>\n",
       "      <td>6839.1</td>\n",
       "      <td>40.767801</td>\n",
       "      <td>-73.965921</td>\n",
       "      <td>...</td>\n",
       "      <td>2022</td>\n",
       "      <td>11</td>\n",
       "      <td>28</td>\n",
       "      <td>0</td>\n",
       "      <td>12</td>\n",
       "      <td>2022</td>\n",
       "      <td>11</td>\n",
       "      <td>28</td>\n",
       "      <td>0</td>\n",
       "      <td>11</td>\n",
       "    </tr>\n",
       "    <tr>\n",
       "      <th>10598163</th>\n",
       "      <td>B925440B0A8006C0</td>\n",
       "      <td>electric_bike</td>\n",
       "      <td>2022-06-29 19:20:49.475</td>\n",
       "      <td>2022-06-29 19:27:44.569</td>\n",
       "      <td>Center Blvd &amp; 51 Ave</td>\n",
       "      <td>6179.07</td>\n",
       "      <td>Vernon Blvd &amp; 50 Ave</td>\n",
       "      <td>6170.02</td>\n",
       "      <td>40.743366</td>\n",
       "      <td>-73.959607</td>\n",
       "      <td>...</td>\n",
       "      <td>2022</td>\n",
       "      <td>6</td>\n",
       "      <td>29</td>\n",
       "      <td>2</td>\n",
       "      <td>19</td>\n",
       "      <td>2022</td>\n",
       "      <td>6</td>\n",
       "      <td>29</td>\n",
       "      <td>2</td>\n",
       "      <td>19</td>\n",
       "    </tr>\n",
       "    <tr>\n",
       "      <th>25332849</th>\n",
       "      <td>558134615D853AC6</td>\n",
       "      <td>classic_bike</td>\n",
       "      <td>2022-10-08 21:21:56.985</td>\n",
       "      <td>2022-10-08 21:33:24.605</td>\n",
       "      <td>Stewart Ave &amp; Johnson Ave</td>\n",
       "      <td>5123.07</td>\n",
       "      <td>Scholes St &amp; Manhattan Ave</td>\n",
       "      <td>5108.01</td>\n",
       "      <td>40.708690</td>\n",
       "      <td>-73.925870</td>\n",
       "      <td>...</td>\n",
       "      <td>2022</td>\n",
       "      <td>10</td>\n",
       "      <td>8</td>\n",
       "      <td>5</td>\n",
       "      <td>21</td>\n",
       "      <td>2022</td>\n",
       "      <td>10</td>\n",
       "      <td>8</td>\n",
       "      <td>5</td>\n",
       "      <td>21</td>\n",
       "    </tr>\n",
       "    <tr>\n",
       "      <th>...</th>\n",
       "      <td>...</td>\n",
       "      <td>...</td>\n",
       "      <td>...</td>\n",
       "      <td>...</td>\n",
       "      <td>...</td>\n",
       "      <td>...</td>\n",
       "      <td>...</td>\n",
       "      <td>...</td>\n",
       "      <td>...</td>\n",
       "      <td>...</td>\n",
       "      <td>...</td>\n",
       "      <td>...</td>\n",
       "      <td>...</td>\n",
       "      <td>...</td>\n",
       "      <td>...</td>\n",
       "      <td>...</td>\n",
       "      <td>...</td>\n",
       "      <td>...</td>\n",
       "      <td>...</td>\n",
       "      <td>...</td>\n",
       "      <td>...</td>\n",
       "    </tr>\n",
       "    <tr>\n",
       "      <th>23011901</th>\n",
       "      <td>BB1585A25ACE7C8F</td>\n",
       "      <td>classic_bike</td>\n",
       "      <td>2022-10-28 17:59:37.992</td>\n",
       "      <td>2022-10-28 18:23:03.449</td>\n",
       "      <td>Bergen St &amp; Smith St</td>\n",
       "      <td>4446.01</td>\n",
       "      <td>N 11 St &amp; Kent Ave</td>\n",
       "      <td>5489.04</td>\n",
       "      <td>40.686744</td>\n",
       "      <td>-73.990632</td>\n",
       "      <td>...</td>\n",
       "      <td>2022</td>\n",
       "      <td>10</td>\n",
       "      <td>28</td>\n",
       "      <td>4</td>\n",
       "      <td>18</td>\n",
       "      <td>2022</td>\n",
       "      <td>10</td>\n",
       "      <td>28</td>\n",
       "      <td>4</td>\n",
       "      <td>17</td>\n",
       "    </tr>\n",
       "    <tr>\n",
       "      <th>1574070</th>\n",
       "      <td>F223ADAE633CD246</td>\n",
       "      <td>classic_bike</td>\n",
       "      <td>2022-02-11 17:18:33.734</td>\n",
       "      <td>2022-02-11 17:23:59.924</td>\n",
       "      <td>Henry St &amp; Grand St</td>\n",
       "      <td>5294.04</td>\n",
       "      <td>Pike St &amp; E Broadway</td>\n",
       "      <td>5270.05</td>\n",
       "      <td>40.714211</td>\n",
       "      <td>-73.981095</td>\n",
       "      <td>...</td>\n",
       "      <td>2022</td>\n",
       "      <td>2</td>\n",
       "      <td>11</td>\n",
       "      <td>4</td>\n",
       "      <td>17</td>\n",
       "      <td>2022</td>\n",
       "      <td>2</td>\n",
       "      <td>11</td>\n",
       "      <td>4</td>\n",
       "      <td>17</td>\n",
       "    </tr>\n",
       "    <tr>\n",
       "      <th>5245293</th>\n",
       "      <td>B3A48E470010FADA</td>\n",
       "      <td>electric_bike</td>\n",
       "      <td>2022-04-15 17:56:49.938</td>\n",
       "      <td>2022-04-15 18:28:51.438</td>\n",
       "      <td>5 Ave &amp; E 87 St</td>\n",
       "      <td>7323.09</td>\n",
       "      <td>5 Ave &amp; E 87 St</td>\n",
       "      <td>7323.09</td>\n",
       "      <td>40.782323</td>\n",
       "      <td>-73.959875</td>\n",
       "      <td>...</td>\n",
       "      <td>2022</td>\n",
       "      <td>4</td>\n",
       "      <td>15</td>\n",
       "      <td>4</td>\n",
       "      <td>18</td>\n",
       "      <td>2022</td>\n",
       "      <td>4</td>\n",
       "      <td>15</td>\n",
       "      <td>4</td>\n",
       "      <td>17</td>\n",
       "    </tr>\n",
       "    <tr>\n",
       "      <th>9200694</th>\n",
       "      <td>BCF463AAEB89F114</td>\n",
       "      <td>classic_bike</td>\n",
       "      <td>2022-06-19 21:24:50.076</td>\n",
       "      <td>2022-06-19 21:36:45.894</td>\n",
       "      <td>6 Ave &amp; Canal St</td>\n",
       "      <td>5500.07</td>\n",
       "      <td>Washington Pl &amp; 6 Ave</td>\n",
       "      <td>5838.09</td>\n",
       "      <td>40.722438</td>\n",
       "      <td>-74.005664</td>\n",
       "      <td>...</td>\n",
       "      <td>2022</td>\n",
       "      <td>6</td>\n",
       "      <td>19</td>\n",
       "      <td>6</td>\n",
       "      <td>21</td>\n",
       "      <td>2022</td>\n",
       "      <td>6</td>\n",
       "      <td>19</td>\n",
       "      <td>6</td>\n",
       "      <td>21</td>\n",
       "    </tr>\n",
       "    <tr>\n",
       "      <th>25744486</th>\n",
       "      <td>916D88AADA49A593</td>\n",
       "      <td>classic_bike</td>\n",
       "      <td>2022-10-16 14:46:22.109</td>\n",
       "      <td>2022-10-16 14:57:08.797</td>\n",
       "      <td>E 25 St &amp; 2 Ave</td>\n",
       "      <td>6046.02</td>\n",
       "      <td>W 4 St &amp; 7 Ave S</td>\n",
       "      <td>5880.02</td>\n",
       "      <td>40.739126</td>\n",
       "      <td>-73.979738</td>\n",
       "      <td>...</td>\n",
       "      <td>2022</td>\n",
       "      <td>10</td>\n",
       "      <td>16</td>\n",
       "      <td>6</td>\n",
       "      <td>14</td>\n",
       "      <td>2022</td>\n",
       "      <td>10</td>\n",
       "      <td>16</td>\n",
       "      <td>6</td>\n",
       "      <td>14</td>\n",
       "    </tr>\n",
       "  </tbody>\n",
       "</table>\n",
       "<p>1488414 rows × 26 columns</p>\n",
       "</div>"
      ],
      "text/plain": [
       "                   ride_id  rideable_type               start_time  \\\n",
       "26912495  4337FD4D0A20576C  electric_bike  2022-11-23 08:40:22.577   \n",
       "2342555   FB88D9E61B43D316   classic_bike  2022-03-24 15:27:51.105   \n",
       "27834596  5544DB17A0D093A9   classic_bike  2022-11-28 11:57:41.365   \n",
       "10598163  B925440B0A8006C0  electric_bike  2022-06-29 19:20:49.475   \n",
       "25332849  558134615D853AC6   classic_bike  2022-10-08 21:21:56.985   \n",
       "...                    ...            ...                      ...   \n",
       "23011901  BB1585A25ACE7C8F   classic_bike  2022-10-28 17:59:37.992   \n",
       "1574070   F223ADAE633CD246   classic_bike  2022-02-11 17:18:33.734   \n",
       "5245293   B3A48E470010FADA  electric_bike  2022-04-15 17:56:49.938   \n",
       "9200694   BCF463AAEB89F114   classic_bike  2022-06-19 21:24:50.076   \n",
       "25744486  916D88AADA49A593   classic_bike  2022-10-16 14:46:22.109   \n",
       "\n",
       "                         end_time         start_station_name start_station_id  \\\n",
       "26912495  2022-11-23 08:58:17.192   W 100 St & Manhattan Ave          7538.14   \n",
       "2342555   2022-03-24 15:45:51.560     Hanson Pl & Ashland Pl          4395.07   \n",
       "27834596  2022-11-28 12:10:47.169         E 67 St & Park Ave          6932.14   \n",
       "10598163  2022-06-29 19:27:44.569       Center Blvd & 51 Ave          6179.07   \n",
       "25332849  2022-10-08 21:33:24.605  Stewart Ave & Johnson Ave          5123.07   \n",
       "...                           ...                        ...              ...   \n",
       "23011901  2022-10-28 18:23:03.449       Bergen St & Smith St          4446.01   \n",
       "1574070   2022-02-11 17:23:59.924        Henry St & Grand St          5294.04   \n",
       "5245293   2022-04-15 18:28:51.438            5 Ave & E 87 St          7323.09   \n",
       "9200694   2022-06-19 21:36:45.894           6 Ave & Canal St          5500.07   \n",
       "25744486  2022-10-16 14:57:08.797            E 25 St & 2 Ave          6046.02   \n",
       "\n",
       "                           end_station_name end_station_id  start_lat  \\\n",
       "26912495                   W 33 St & 10 Ave        6492.04  40.794934   \n",
       "2342555           Pioneer St & Van Brunt St        4169.04  40.685068   \n",
       "27834596  Grand Army Plaza & Central Park S         6839.1  40.767801   \n",
       "10598163               Vernon Blvd & 50 Ave        6170.02  40.743366   \n",
       "25332849         Scholes St & Manhattan Ave        5108.01  40.708690   \n",
       "...                                     ...            ...        ...   \n",
       "23011901                 N 11 St & Kent Ave        5489.04  40.686744   \n",
       "1574070                Pike St & E Broadway        5270.05  40.714211   \n",
       "5245293                     5 Ave & E 87 St        7323.09  40.782323   \n",
       "9200694               Washington Pl & 6 Ave        5838.09  40.722438   \n",
       "25744486                   W 4 St & 7 Ave S        5880.02  40.739126   \n",
       "\n",
       "          start_lng  ...  end_year  end_month end_day end_weekday  end_hour  \\\n",
       "26912495 -73.964464  ...      2022         11      23           2         8   \n",
       "2342555  -73.977908  ...      2022          3      24           3        15   \n",
       "27834596 -73.965921  ...      2022         11      28           0        12   \n",
       "10598163 -73.959607  ...      2022          6      29           2        19   \n",
       "25332849 -73.925870  ...      2022         10       8           5        21   \n",
       "...             ...  ...       ...        ...     ...         ...       ...   \n",
       "23011901 -73.990632  ...      2022         10      28           4        18   \n",
       "1574070  -73.981095  ...      2022          2      11           4        17   \n",
       "5245293  -73.959875  ...      2022          4      15           4        18   \n",
       "9200694  -74.005664  ...      2022          6      19           6        21   \n",
       "25744486 -73.979738  ...      2022         10      16           6        14   \n",
       "\n",
       "          start_year  start_month  start_day  start_weekday  start_hour  \n",
       "26912495        2022           11         23              2           8  \n",
       "2342555         2022            3         24              3          15  \n",
       "27834596        2022           11         28              0          11  \n",
       "10598163        2022            6         29              2          19  \n",
       "25332849        2022           10          8              5          21  \n",
       "...              ...          ...        ...            ...         ...  \n",
       "23011901        2022           10         28              4          17  \n",
       "1574070         2022            2         11              4          17  \n",
       "5245293         2022            4         15              4          17  \n",
       "9200694         2022            6         19              6          21  \n",
       "25744486        2022           10         16              6          14  \n",
       "\n",
       "[1488414 rows x 26 columns]"
      ]
     },
     "execution_count": 12,
     "metadata": {},
     "output_type": "execute_result"
    }
   ],
   "source": [
    "df_sample"
   ]
  },
  {
   "cell_type": "code",
   "execution_count": 11,
   "id": "1c025d9e-705e-4358-8af2-756d5545b24d",
   "metadata": {},
   "outputs": [],
   "source": [
    "df_sample.to_csv('sampleset_citibike.csv')"
   ]
  },
  {
   "cell_type": "code",
   "execution_count": 11,
   "id": "76f0ec99-c111-49cd-8e2a-8166bbe0287d",
   "metadata": {},
   "outputs": [],
   "source": [
    "# Create a value column and group by start and end station \n",
    "df_sample['value'] = 1\n",
    "df_group = df_sample.groupby(['start_station_name', 'end_station_name'])['value'].count().reset_index()"
   ]
  },
  {
   "cell_type": "code",
   "execution_count": 14,
   "id": "57d06baf-4c5c-4e7c-b688-db5ec85c6248",
   "metadata": {},
   "outputs": [
    {
     "data": {
      "text/html": [
       "<div>\n",
       "<style scoped>\n",
       "    .dataframe tbody tr th:only-of-type {\n",
       "        vertical-align: middle;\n",
       "    }\n",
       "\n",
       "    .dataframe tbody tr th {\n",
       "        vertical-align: top;\n",
       "    }\n",
       "\n",
       "    .dataframe thead th {\n",
       "        text-align: right;\n",
       "    }\n",
       "</style>\n",
       "<table border=\"1\" class=\"dataframe\">\n",
       "  <thead>\n",
       "    <tr style=\"text-align: right;\">\n",
       "      <th></th>\n",
       "      <th>start_station_name</th>\n",
       "      <th>end_station_name</th>\n",
       "      <th>value</th>\n",
       "    </tr>\n",
       "  </thead>\n",
       "  <tbody>\n",
       "    <tr>\n",
       "      <th>0</th>\n",
       "      <td>1 Ave &amp; E 110 St</td>\n",
       "      <td>1 Ave &amp; E 110 St</td>\n",
       "      <td>38</td>\n",
       "    </tr>\n",
       "    <tr>\n",
       "      <th>1</th>\n",
       "      <td>1 Ave &amp; E 110 St</td>\n",
       "      <td>1 Ave &amp; E 30 St</td>\n",
       "      <td>1</td>\n",
       "    </tr>\n",
       "    <tr>\n",
       "      <th>2</th>\n",
       "      <td>1 Ave &amp; E 110 St</td>\n",
       "      <td>1 Ave &amp; E 78 St</td>\n",
       "      <td>3</td>\n",
       "    </tr>\n",
       "    <tr>\n",
       "      <th>3</th>\n",
       "      <td>1 Ave &amp; E 110 St</td>\n",
       "      <td>1 Ave &amp; E 94 St</td>\n",
       "      <td>5</td>\n",
       "    </tr>\n",
       "    <tr>\n",
       "      <th>4</th>\n",
       "      <td>1 Ave &amp; E 110 St</td>\n",
       "      <td>10 Ave &amp; W 215 St</td>\n",
       "      <td>1</td>\n",
       "    </tr>\n",
       "    <tr>\n",
       "      <th>...</th>\n",
       "      <td>...</td>\n",
       "      <td>...</td>\n",
       "      <td>...</td>\n",
       "    </tr>\n",
       "    <tr>\n",
       "      <th>351642</th>\n",
       "      <td>Yankee Ferry Terminal</td>\n",
       "      <td>Pioneer St &amp; Van Brunt St</td>\n",
       "      <td>1</td>\n",
       "    </tr>\n",
       "    <tr>\n",
       "      <th>351643</th>\n",
       "      <td>Yankee Ferry Terminal</td>\n",
       "      <td>Soissons Landing</td>\n",
       "      <td>218</td>\n",
       "    </tr>\n",
       "    <tr>\n",
       "      <th>351644</th>\n",
       "      <td>Yankee Ferry Terminal</td>\n",
       "      <td>South St &amp; Whitehall St</td>\n",
       "      <td>4</td>\n",
       "    </tr>\n",
       "    <tr>\n",
       "      <th>351645</th>\n",
       "      <td>Yankee Ferry Terminal</td>\n",
       "      <td>West St &amp; Chambers St</td>\n",
       "      <td>1</td>\n",
       "    </tr>\n",
       "    <tr>\n",
       "      <th>351646</th>\n",
       "      <td>Yankee Ferry Terminal</td>\n",
       "      <td>Yankee Ferry Terminal</td>\n",
       "      <td>278</td>\n",
       "    </tr>\n",
       "  </tbody>\n",
       "</table>\n",
       "<p>351647 rows × 3 columns</p>\n",
       "</div>"
      ],
      "text/plain": [
       "           start_station_name           end_station_name  value\n",
       "0            1 Ave & E 110 St           1 Ave & E 110 St     38\n",
       "1            1 Ave & E 110 St            1 Ave & E 30 St      1\n",
       "2            1 Ave & E 110 St            1 Ave & E 78 St      3\n",
       "3            1 Ave & E 110 St            1 Ave & E 94 St      5\n",
       "4            1 Ave & E 110 St          10 Ave & W 215 St      1\n",
       "...                       ...                        ...    ...\n",
       "351642  Yankee Ferry Terminal  Pioneer St & Van Brunt St      1\n",
       "351643  Yankee Ferry Terminal           Soissons Landing    218\n",
       "351644  Yankee Ferry Terminal    South St & Whitehall St      4\n",
       "351645  Yankee Ferry Terminal      West St & Chambers St      1\n",
       "351646  Yankee Ferry Terminal      Yankee Ferry Terminal    278\n",
       "\n",
       "[351647 rows x 3 columns]"
      ]
     },
     "execution_count": 14,
     "metadata": {},
     "output_type": "execute_result"
    }
   ],
   "source": [
    "df_group"
   ]
  },
  {
   "cell_type": "code",
   "execution_count": 16,
   "id": "29ae5c85-5d0d-40f3-997f-71a18cec457c",
   "metadata": {},
   "outputs": [
    {
     "name": "stdout",
     "output_type": "stream",
     "text": [
      "1488414\n",
      "(1488414, 27)\n"
     ]
    }
   ],
   "source": [
    "print(df_group['value'].sum())\n",
    "print(df_sample.shape)"
   ]
  },
  {
   "cell_type": "code",
   "execution_count": 17,
   "id": "22307665-f86f-49cc-b7be-14c1fe4516c1",
   "metadata": {},
   "outputs": [
    {
     "data": {
      "text/plain": [
       "count    351647.000000\n",
       "mean          4.232694\n",
       "std           7.937012\n",
       "min           1.000000\n",
       "25%           1.000000\n",
       "50%           2.000000\n",
       "75%           4.000000\n",
       "max         633.000000\n",
       "Name: value, dtype: float64"
      ]
     },
     "execution_count": 17,
     "metadata": {},
     "output_type": "execute_result"
    }
   ],
   "source": [
    "df_group['value'].describe()"
   ]
  },
  {
   "cell_type": "code",
   "execution_count": 12,
   "id": "aa80ae9a-ffb7-48e1-b203-5304b409a100",
   "metadata": {},
   "outputs": [],
   "source": [
    "df_group.rename(columns = {'value': 'trips'}, inplace = True)"
   ]
  },
  {
   "cell_type": "markdown",
   "id": "c9252b2e-f7db-438f-a16c-29ddf803485e",
   "metadata": {},
   "source": [
    "### Exploratory analysis into trips"
   ]
  },
  {
   "cell_type": "code",
   "execution_count": 19,
   "id": "6413ac89-5bb8-4f40-929e-0e266f29a198",
   "metadata": {},
   "outputs": [
    {
     "data": {
      "image/png": "[encoded data removed]",
      "text/plain": [
       "<Figure size 640x480 with 1 Axes>"
      ]
     },
     "metadata": {},
     "output_type": "display_data"
    }
   ],
   "source": [
    "df_group['trips'].hist(bins = 100)\n",
    "plt.show()"
   ]
  },
  {
   "cell_type": "markdown",
   "id": "0b58d1b2-c569-46dc-b4b9-648f50cd9e6b",
   "metadata": {},
   "source": [
    "The highest bin being shown at 0-1 shows that the data set is mostly comprised of stations that do not have trips between them. There are a lot of station pairs that customers do not travel back and forth to. There are fewer station pairs that customers frequently travel back and forth to, perhaps due to location, which we will explore."
   ]
  },
  {
   "cell_type": "code",
   "execution_count": 20,
   "id": "e0bc3345-0d9d-4545-9c1d-9e7a5c44578e",
   "metadata": {},
   "outputs": [
    {
     "data": {
      "text/plain": [
       "[]"
      ]
     },
     "execution_count": 20,
     "metadata": {},
     "output_type": "execute_result"
    },
    {
     "data": {
      "image/png": "[encoded data removed]",
      "text/plain": [
       "<Figure size 640x480 with 1 Axes>"
      ]
     },
     "metadata": {},
     "output_type": "display_data"
    }
   ],
   "source": [
    "b_plot = df_group.boxplot(column = 'trips') \n",
    "b_plot.plot()"
   ]
  },
  {
   "cell_type": "markdown",
   "id": "8c0c8186-6008-4b3c-923f-337f7eef8cb4",
   "metadata": {},
   "source": [
    "The boxplot further empasizes what the histogram portrayed, that there a large amount of station pairs that are not travelled to and from. However, the boxplot seems to show that there are some station pairs that have a high number of trip instances."
   ]
  },
  {
   "cell_type": "code",
   "execution_count": 21,
   "id": "4141fb57-f8f7-41c1-beec-99b6bfe1922d",
   "metadata": {},
   "outputs": [
    {
     "data": {
      "text/plain": [
       "trips\n",
       "1      158792\n",
       "2       58424\n",
       "3       31696\n",
       "4       20540\n",
       "5       14631\n",
       "        ...  \n",
       "240         1\n",
       "158         1\n",
       "232         1\n",
       "142         1\n",
       "218         1\n",
       "Name: count, Length: 204, dtype: int64"
      ]
     },
     "execution_count": 21,
     "metadata": {},
     "output_type": "execute_result"
    }
   ],
   "source": [
    "df_group['trips'].sort_index().value_counts()"
   ]
  },
  {
   "cell_type": "code",
   "execution_count": 13,
   "id": "f3a6668e-1a7d-472d-ab1d-b9d8584f4c0b",
   "metadata": {},
   "outputs": [],
   "source": [
    "df_group.to_csv('df_groupby_trips.csv')"
   ]
  },
  {
   "cell_type": "code",
   "execution_count": 12,
   "id": "53506913-2a2f-4337-ad72-665e2d70f9b2",
   "metadata": {},
   "outputs": [],
   "source": [
    "df_group = pd.read_csv('df_groupby_trips.csv')"
   ]
  },
  {
   "cell_type": "markdown",
   "id": "4ee49e1a-f030-4964-afbf-6bdcec14f1f1",
   "metadata": {},
   "source": [
    "### Merging latitude and longitude from original sample set to the new aggregated data set"
   ]
  },
  {
   "cell_type": "code",
   "execution_count": 13,
   "id": "2ed6565a-e5f9-405a-9e36-5c6400f26177",
   "metadata": {},
   "outputs": [],
   "source": [
    "# Extract unique coordinates for start station\n",
    "start_station_coords = df_sample[['start_station_name', 'start_lat', 'start_lng']].drop_duplicates(subset=['start_station_name'])"
   ]
  },
  {
   "cell_type": "code",
   "execution_count": 14,
   "id": "cbc1396a-2002-4263-93bc-73949cc83bb5",
   "metadata": {},
   "outputs": [],
   "source": [
    "# Extract unique coordinates for end station\n",
    "end_station_coords = df_sample[['end_station_name', 'end_lat', 'end_lng']].drop_duplicates(subset=['end_station_name'])"
   ]
  },
  {
   "cell_type": "code",
   "execution_count": 15,
   "id": "b48bee64-7412-40ff-bb7f-1455bbdf8906",
   "metadata": {},
   "outputs": [],
   "source": [
    "# Merge the start station coordinates into df_group\n",
    "df_group = pd.merge(df_group, start_station_coords, on='start_station_name', how='left')"
   ]
  },
  {
   "cell_type": "code",
   "execution_count": 16,
   "id": "1818e18a-91b2-4f04-9a1c-2c279cfd6aac",
   "metadata": {},
   "outputs": [],
   "source": [
    "# Merge the end station coordinates into df_group\n",
    "df_group = pd.merge(df_group, end_station_coords, on='end_station_name', how='left')"
   ]
  },
  {
   "cell_type": "code",
   "execution_count": 17,
   "id": "c1cb0f44-8cea-4279-b916-6d53a47c3f81",
   "metadata": {},
   "outputs": [
    {
     "data": {
      "text/plain": [
       "(351647, 8)"
      ]
     },
     "execution_count": 17,
     "metadata": {},
     "output_type": "execute_result"
    }
   ],
   "source": [
    "df_group.shape"
   ]
  },
  {
   "cell_type": "code",
   "execution_count": 19,
   "id": "e849ca65-646d-401f-85f8-849ebfcf2b47",
   "metadata": {},
   "outputs": [
    {
     "data": {
      "text/html": [
       "<div>\n",
       "<style scoped>\n",
       "    .dataframe tbody tr th:only-of-type {\n",
       "        vertical-align: middle;\n",
       "    }\n",
       "\n",
       "    .dataframe tbody tr th {\n",
       "        vertical-align: top;\n",
       "    }\n",
       "\n",
       "    .dataframe thead th {\n",
       "        text-align: right;\n",
       "    }\n",
       "</style>\n",
       "<table border=\"1\" class=\"dataframe\">\n",
       "  <thead>\n",
       "    <tr style=\"text-align: right;\">\n",
       "      <th></th>\n",
       "      <th>Unnamed: 0</th>\n",
       "      <th>start_station_name</th>\n",
       "      <th>end_station_name</th>\n",
       "      <th>trips</th>\n",
       "      <th>start_lat</th>\n",
       "      <th>start_lng</th>\n",
       "      <th>end_lat</th>\n",
       "      <th>end_lng</th>\n",
       "    </tr>\n",
       "  </thead>\n",
       "  <tbody>\n",
       "    <tr>\n",
       "      <th>0</th>\n",
       "      <td>0</td>\n",
       "      <td>1 Ave &amp; E 110 St</td>\n",
       "      <td>1 Ave &amp; E 110 St</td>\n",
       "      <td>38</td>\n",
       "      <td>40.792327</td>\n",
       "      <td>-73.9383</td>\n",
       "      <td>40.792327</td>\n",
       "      <td>-73.938300</td>\n",
       "    </tr>\n",
       "    <tr>\n",
       "      <th>1</th>\n",
       "      <td>1</td>\n",
       "      <td>1 Ave &amp; E 110 St</td>\n",
       "      <td>1 Ave &amp; E 30 St</td>\n",
       "      <td>1</td>\n",
       "      <td>40.792327</td>\n",
       "      <td>-73.9383</td>\n",
       "      <td>40.741444</td>\n",
       "      <td>-73.975361</td>\n",
       "    </tr>\n",
       "    <tr>\n",
       "      <th>2</th>\n",
       "      <td>2</td>\n",
       "      <td>1 Ave &amp; E 110 St</td>\n",
       "      <td>1 Ave &amp; E 78 St</td>\n",
       "      <td>3</td>\n",
       "      <td>40.792327</td>\n",
       "      <td>-73.9383</td>\n",
       "      <td>40.771404</td>\n",
       "      <td>-73.953517</td>\n",
       "    </tr>\n",
       "    <tr>\n",
       "      <th>3</th>\n",
       "      <td>3</td>\n",
       "      <td>1 Ave &amp; E 110 St</td>\n",
       "      <td>1 Ave &amp; E 94 St</td>\n",
       "      <td>5</td>\n",
       "      <td>40.792327</td>\n",
       "      <td>-73.9383</td>\n",
       "      <td>40.781721</td>\n",
       "      <td>-73.945940</td>\n",
       "    </tr>\n",
       "    <tr>\n",
       "      <th>4</th>\n",
       "      <td>4</td>\n",
       "      <td>1 Ave &amp; E 110 St</td>\n",
       "      <td>10 Ave &amp; W 215 St</td>\n",
       "      <td>1</td>\n",
       "      <td>40.792327</td>\n",
       "      <td>-73.9383</td>\n",
       "      <td>40.869325</td>\n",
       "      <td>-73.915198</td>\n",
       "    </tr>\n",
       "  </tbody>\n",
       "</table>\n",
       "</div>"
      ],
      "text/plain": [
       "   Unnamed: 0 start_station_name   end_station_name  trips  start_lat  \\\n",
       "0           0   1 Ave & E 110 St   1 Ave & E 110 St     38  40.792327   \n",
       "1           1   1 Ave & E 110 St    1 Ave & E 30 St      1  40.792327   \n",
       "2           2   1 Ave & E 110 St    1 Ave & E 78 St      3  40.792327   \n",
       "3           3   1 Ave & E 110 St    1 Ave & E 94 St      5  40.792327   \n",
       "4           4   1 Ave & E 110 St  10 Ave & W 215 St      1  40.792327   \n",
       "\n",
       "   start_lng    end_lat    end_lng  \n",
       "0   -73.9383  40.792327 -73.938300  \n",
       "1   -73.9383  40.741444 -73.975361  \n",
       "2   -73.9383  40.771404 -73.953517  \n",
       "3   -73.9383  40.781721 -73.945940  \n",
       "4   -73.9383  40.869325 -73.915198  "
      ]
     },
     "execution_count": 19,
     "metadata": {},
     "output_type": "execute_result"
    }
   ],
   "source": [
    "df_group.head()"
   ]
  },
  {
   "cell_type": "code",
   "execution_count": 20,
   "id": "e0bd0663-f257-4782-94e2-0f37e169ed2a",
   "metadata": {},
   "outputs": [],
   "source": [
    "# Drop the Unnamed column from the DataFrame\n",
    "df_group = df_group.drop(columns=['Unnamed: 0'])"
   ]
  },
  {
   "cell_type": "code",
   "execution_count": 21,
   "id": "60d9adf4-599e-43fd-9422-607284ae5ab5",
   "metadata": {},
   "outputs": [],
   "source": [
    "# Rename columns for better clarity\n",
    "df_group.rename(columns={\n",
    "    'start_station_name': 'start_station',\n",
    "    'end_station_name': 'end_station',\n",
    "    'trips': 'trip_count',\n",
    "    'start_lat': 'start_latitude',\n",
    "    'start_lng': 'start_longitude',\n",
    "    'end_lat': 'end_latitude',\n",
    "    'end_lng': 'end_longitude'\n",
    "}, inplace=True)"
   ]
  },
  {
   "cell_type": "code",
   "execution_count": 22,
   "id": "43f3abac-2871-4e46-9a9c-d4fae77a93e3",
   "metadata": {},
   "outputs": [
    {
     "data": {
      "text/plain": [
       "0"
      ]
     },
     "execution_count": 22,
     "metadata": {},
     "output_type": "execute_result"
    }
   ],
   "source": [
    "import gc # this is garbage collector - speeds up performance\n",
    "gc.collect()"
   ]
  },
  {
   "cell_type": "code",
   "execution_count": 23,
   "id": "b2966ea9-9d62-44b8-878f-5167841b0b54",
   "metadata": {},
   "outputs": [
    {
     "data": {
      "text/html": [
       "<div>\n",
       "<style scoped>\n",
       "    .dataframe tbody tr th:only-of-type {\n",
       "        vertical-align: middle;\n",
       "    }\n",
       "\n",
       "    .dataframe tbody tr th {\n",
       "        vertical-align: top;\n",
       "    }\n",
       "\n",
       "    .dataframe thead th {\n",
       "        text-align: right;\n",
       "    }\n",
       "</style>\n",
       "<table border=\"1\" class=\"dataframe\">\n",
       "  <thead>\n",
       "    <tr style=\"text-align: right;\">\n",
       "      <th></th>\n",
       "      <th>start_station</th>\n",
       "      <th>end_station</th>\n",
       "      <th>trip_count</th>\n",
       "      <th>start_latitude</th>\n",
       "      <th>start_longitude</th>\n",
       "      <th>end_latitude</th>\n",
       "      <th>end_longitude</th>\n",
       "    </tr>\n",
       "  </thead>\n",
       "  <tbody>\n",
       "    <tr>\n",
       "      <th>0</th>\n",
       "      <td>1 Ave &amp; E 110 St</td>\n",
       "      <td>1 Ave &amp; E 110 St</td>\n",
       "      <td>38</td>\n",
       "      <td>40.792327</td>\n",
       "      <td>-73.9383</td>\n",
       "      <td>40.792327</td>\n",
       "      <td>-73.938300</td>\n",
       "    </tr>\n",
       "    <tr>\n",
       "      <th>1</th>\n",
       "      <td>1 Ave &amp; E 110 St</td>\n",
       "      <td>1 Ave &amp; E 30 St</td>\n",
       "      <td>1</td>\n",
       "      <td>40.792327</td>\n",
       "      <td>-73.9383</td>\n",
       "      <td>40.741444</td>\n",
       "      <td>-73.975361</td>\n",
       "    </tr>\n",
       "    <tr>\n",
       "      <th>2</th>\n",
       "      <td>1 Ave &amp; E 110 St</td>\n",
       "      <td>1 Ave &amp; E 78 St</td>\n",
       "      <td>3</td>\n",
       "      <td>40.792327</td>\n",
       "      <td>-73.9383</td>\n",
       "      <td>40.771404</td>\n",
       "      <td>-73.953517</td>\n",
       "    </tr>\n",
       "    <tr>\n",
       "      <th>3</th>\n",
       "      <td>1 Ave &amp; E 110 St</td>\n",
       "      <td>1 Ave &amp; E 94 St</td>\n",
       "      <td>5</td>\n",
       "      <td>40.792327</td>\n",
       "      <td>-73.9383</td>\n",
       "      <td>40.781721</td>\n",
       "      <td>-73.945940</td>\n",
       "    </tr>\n",
       "    <tr>\n",
       "      <th>4</th>\n",
       "      <td>1 Ave &amp; E 110 St</td>\n",
       "      <td>10 Ave &amp; W 215 St</td>\n",
       "      <td>1</td>\n",
       "      <td>40.792327</td>\n",
       "      <td>-73.9383</td>\n",
       "      <td>40.869325</td>\n",
       "      <td>-73.915198</td>\n",
       "    </tr>\n",
       "  </tbody>\n",
       "</table>\n",
       "</div>"
      ],
      "text/plain": [
       "      start_station        end_station  trip_count  start_latitude  \\\n",
       "0  1 Ave & E 110 St   1 Ave & E 110 St          38       40.792327   \n",
       "1  1 Ave & E 110 St    1 Ave & E 30 St           1       40.792327   \n",
       "2  1 Ave & E 110 St    1 Ave & E 78 St           3       40.792327   \n",
       "3  1 Ave & E 110 St    1 Ave & E 94 St           5       40.792327   \n",
       "4  1 Ave & E 110 St  10 Ave & W 215 St           1       40.792327   \n",
       "\n",
       "   start_longitude  end_latitude  end_longitude  \n",
       "0         -73.9383     40.792327     -73.938300  \n",
       "1         -73.9383     40.741444     -73.975361  \n",
       "2         -73.9383     40.771404     -73.953517  \n",
       "3         -73.9383     40.781721     -73.945940  \n",
       "4         -73.9383     40.869325     -73.915198  "
      ]
     },
     "execution_count": 23,
     "metadata": {},
     "output_type": "execute_result"
    }
   ],
   "source": [
    "df_group.head()"
   ]
  },
  {
   "cell_type": "code",
   "execution_count": 24,
   "id": "1ada2b2b-82f5-445d-80eb-c82cfd01edbf",
   "metadata": {},
   "outputs": [],
   "source": [
    "df_group.to_csv('final_trips_count.csv')"
   ]
  },
  {
   "cell_type": "markdown",
   "id": "43c7f304-32d9-4e22-9c06-b170d49915ad",
   "metadata": {},
   "source": [
    "### Plot the map"
   ]
  },
  {
   "cell_type": "code",
   "execution_count": 20,
   "id": "77c97d4d-ca15-46b3-bcc6-ba54fca4a4df",
   "metadata": {},
   "outputs": [],
   "source": [
    "df_final = pd.read_csv('final_trips_count.csv')"
   ]
  },
  {
   "cell_type": "code",
   "execution_count": 3,
   "id": "b80d9ad0-9479-4bbc-822e-57f242c00be2",
   "metadata": {},
   "outputs": [
    {
     "data": {
      "text/html": [
       "<div>\n",
       "<style scoped>\n",
       "    .dataframe tbody tr th:only-of-type {\n",
       "        vertical-align: middle;\n",
       "    }\n",
       "\n",
       "    .dataframe tbody tr th {\n",
       "        vertical-align: top;\n",
       "    }\n",
       "\n",
       "    .dataframe thead th {\n",
       "        text-align: right;\n",
       "    }\n",
       "</style>\n",
       "<table border=\"1\" class=\"dataframe\">\n",
       "  <thead>\n",
       "    <tr style=\"text-align: right;\">\n",
       "      <th></th>\n",
       "      <th>Unnamed: 0</th>\n",
       "      <th>start_station</th>\n",
       "      <th>end_station</th>\n",
       "      <th>trip_count</th>\n",
       "      <th>start_latitude</th>\n",
       "      <th>start_longitude</th>\n",
       "      <th>end_latitude</th>\n",
       "      <th>end_longitude</th>\n",
       "    </tr>\n",
       "  </thead>\n",
       "  <tbody>\n",
       "    <tr>\n",
       "      <th>0</th>\n",
       "      <td>0</td>\n",
       "      <td>1 Ave &amp; E 110 St</td>\n",
       "      <td>1 Ave &amp; E 110 St</td>\n",
       "      <td>38</td>\n",
       "      <td>40.792327</td>\n",
       "      <td>-73.9383</td>\n",
       "      <td>40.792327</td>\n",
       "      <td>-73.938300</td>\n",
       "    </tr>\n",
       "    <tr>\n",
       "      <th>1</th>\n",
       "      <td>1</td>\n",
       "      <td>1 Ave &amp; E 110 St</td>\n",
       "      <td>1 Ave &amp; E 30 St</td>\n",
       "      <td>1</td>\n",
       "      <td>40.792327</td>\n",
       "      <td>-73.9383</td>\n",
       "      <td>40.741444</td>\n",
       "      <td>-73.975361</td>\n",
       "    </tr>\n",
       "    <tr>\n",
       "      <th>2</th>\n",
       "      <td>2</td>\n",
       "      <td>1 Ave &amp; E 110 St</td>\n",
       "      <td>1 Ave &amp; E 78 St</td>\n",
       "      <td>3</td>\n",
       "      <td>40.792327</td>\n",
       "      <td>-73.9383</td>\n",
       "      <td>40.771404</td>\n",
       "      <td>-73.953517</td>\n",
       "    </tr>\n",
       "    <tr>\n",
       "      <th>3</th>\n",
       "      <td>3</td>\n",
       "      <td>1 Ave &amp; E 110 St</td>\n",
       "      <td>1 Ave &amp; E 94 St</td>\n",
       "      <td>5</td>\n",
       "      <td>40.792327</td>\n",
       "      <td>-73.9383</td>\n",
       "      <td>40.781721</td>\n",
       "      <td>-73.945940</td>\n",
       "    </tr>\n",
       "    <tr>\n",
       "      <th>4</th>\n",
       "      <td>4</td>\n",
       "      <td>1 Ave &amp; E 110 St</td>\n",
       "      <td>10 Ave &amp; W 215 St</td>\n",
       "      <td>1</td>\n",
       "      <td>40.792327</td>\n",
       "      <td>-73.9383</td>\n",
       "      <td>40.869325</td>\n",
       "      <td>-73.915198</td>\n",
       "    </tr>\n",
       "  </tbody>\n",
       "</table>\n",
       "</div>"
      ],
      "text/plain": [
       "   Unnamed: 0     start_station        end_station  trip_count  \\\n",
       "0           0  1 Ave & E 110 St   1 Ave & E 110 St          38   \n",
       "1           1  1 Ave & E 110 St    1 Ave & E 30 St           1   \n",
       "2           2  1 Ave & E 110 St    1 Ave & E 78 St           3   \n",
       "3           3  1 Ave & E 110 St    1 Ave & E 94 St           5   \n",
       "4           4  1 Ave & E 110 St  10 Ave & W 215 St           1   \n",
       "\n",
       "   start_latitude  start_longitude  end_latitude  end_longitude  \n",
       "0       40.792327         -73.9383     40.792327     -73.938300  \n",
       "1       40.792327         -73.9383     40.741444     -73.975361  \n",
       "2       40.792327         -73.9383     40.771404     -73.953517  \n",
       "3       40.792327         -73.9383     40.781721     -73.945940  \n",
       "4       40.792327         -73.9383     40.869325     -73.915198  "
      ]
     },
     "execution_count": 3,
     "metadata": {},
     "output_type": "execute_result"
    }
   ],
   "source": [
    "df_final.head()"
   ]
  },
  {
   "cell_type": "code",
   "execution_count": 21,
   "id": "b169a7a6-40af-4f28-b668-305647aeb5e8",
   "metadata": {},
   "outputs": [],
   "source": [
    "# Drop the 'Unnamed: 0' column\n",
    "df_final = df_final.drop(columns=['Unnamed: 0'])"
   ]
  },
  {
   "cell_type": "code",
   "execution_count": 37,
   "id": "96ccea36-cf4f-476f-b5d4-b9dab38d0e68",
   "metadata": {},
   "outputs": [
    {
     "name": "stdout",
     "output_type": "stream",
     "text": [
      "User Guide: https://docs.kepler.gl/docs/keplergl-jupyter\n"
     ]
    }
   ],
   "source": [
    "# Initialize the KeplerGl map with your data\n",
    "m = KeplerGl(height=700, data={\"data_1\": df_final})"
   ]
  },
  {
   "cell_type": "code",
   "execution_count": 23,
   "id": "8e3daccf-9ef9-4b0e-9479-5d6585b8d214",
   "metadata": {},
   "outputs": [
    {
     "data": {
      "application/vnd.jupyter.widget-view+json": {
       "model_id": "57d84bc717d14dea859e69908bb081d8",
       "version_major": 2,
       "version_minor": 0
      },
      "text/plain": [
       "KeplerGl(data={'data_1':                 start_station                end_station  trip_count  \\\n",
       "0            …"
      ]
     },
     "metadata": {},
     "output_type": "display_data"
    }
   ],
   "source": [
    "m"
   ]
  },
  {
   "cell_type": "markdown",
   "id": "958453d1-73e7-4084-80f0-443e2fff3270",
   "metadata": {},
   "source": [
    "##### Map Settings:\n",
    "I chose green to show the starting stations and red to show the end stations, because it makes sense to portray green for start and red for stop, like traffic lights. I picked contrasting colors for the arcs as well as off-green and off-red, which I found to be aestheically pleasing. \n",
    "##### Common trips filter:\n",
    "The most common trips for 2022 occurred at the Central Park S & 6 Ave station, as it had 633 trips where customers started and ended at the same station. In this general area, most trips occurred between the same stations, the other stations being Grand Army Plaza & Central Park S, 7 Ave & Central Park South, and Broadway & W 58 St. The West Drive & Prospect Park West is one station that has a lot of common trips below downtown Brooklyn, mostly trips that start and end at the same station. \n",
    "##### Without the filter:\n",
    "I notice there are a lot of longer trips occurring between the Brooklyn and Queens area, so it may be a good idea to utilize adding more stations between these areas."
   ]
  },
  {
   "cell_type": "code",
   "execution_count": 38,
   "id": "a23e7e9b-40e8-415e-9115-b553960a281d",
   "metadata": {},
   "outputs": [],
   "source": [
    "config = m.config"
   ]
  },
  {
   "cell_type": "code",
   "execution_count": 31,
   "id": "39e40af2-890f-47eb-b40f-12856ee91594",
   "metadata": {
    "scrolled": true
   },
   "outputs": [
    {
     "name": "stdout",
     "output_type": "stream",
     "text": [
      "{'version': 'v1', 'config': {'visState': {'filters': [], 'layers': [{'id': 'm5q569m', 'type': 'point', 'config': {'dataId': 'data_1', 'label': 'start', 'color': [231, 159, 213], 'highlightColor': [252, 242, 26, 255], 'columns': {'lat': 'start_latitude', 'lng': 'start_longitude'}, 'isVisible': True, 'visConfig': {'radius': 10, 'fixedRadius': False, 'opacity': 0.8, 'outline': False, 'thickness': 2, 'strokeColor': None, 'colorRange': {'name': 'Global Warming', 'type': 'sequential', 'category': 'Uber', 'colors': ['#5A1846', '#900C3F', '#C70039', '#E3611C', '#F1920E', '#FFC300']}, 'strokeColorRange': {'name': 'Global Warming', 'type': 'sequential', 'category': 'Uber', 'colors': ['#5A1846', '#900C3F', '#C70039', '#E3611C', '#F1920E', '#FFC300']}, 'radiusRange': [0, 50], 'filled': True}, 'hidden': False, 'textLabel': [{'field': None, 'color': [255, 255, 255], 'size': 18, 'offset': [0, 0], 'anchor': 'start', 'alignment': 'center', 'outlineWidth': 0, 'outlineColor': [255, 0, 0, 255], 'background': False, 'backgroundColor': [0, 0, 200, 255]}]}, 'visualChannels': {'colorField': {'name': 'trip_count', 'type': 'integer'}, 'colorScale': 'quantile', 'strokeColorField': None, 'strokeColorScale': 'quantile', 'sizeField': None, 'sizeScale': 'linear'}}, {'id': 'noe3j0f', 'type': 'point', 'config': {'dataId': 'data_1', 'label': 'end', 'color': [30, 150, 190], 'highlightColor': [252, 242, 26, 255], 'columns': {'lat': 'end_latitude', 'lng': 'end_longitude'}, 'isVisible': False, 'visConfig': {'radius': 10, 'fixedRadius': False, 'opacity': 0.8, 'outline': False, 'thickness': 2, 'strokeColor': None, 'colorRange': {'name': 'Global Warming', 'type': 'sequential', 'category': 'Uber', 'colors': ['#5A1846', '#900C3F', '#C70039', '#E3611C', '#F1920E', '#FFC300']}, 'strokeColorRange': {'name': 'Global Warming', 'type': 'sequential', 'category': 'Uber', 'colors': ['#5A1846', '#900C3F', '#C70039', '#E3611C', '#F1920E', '#FFC300']}, 'radiusRange': [0, 50], 'filled': True}, 'hidden': False, 'textLabel': [{'field': None, 'color': [255, 255, 255], 'size': 18, 'offset': [0, 0], 'anchor': 'start', 'alignment': 'center', 'outlineWidth': 0, 'outlineColor': [255, 0, 0, 255], 'background': False, 'backgroundColor': [0, 0, 200, 255]}]}, 'visualChannels': {'colorField': {'name': 'trip_count', 'type': 'integer'}, 'colorScale': 'quantile', 'strokeColorField': None, 'strokeColorScale': 'quantile', 'sizeField': None, 'sizeScale': 'linear'}}, {'id': '6613jaf', 'type': 'arc', 'config': {'dataId': 'data_1', 'label': 'start -> end arc', 'color': [146, 38, 198], 'highlightColor': [252, 242, 26, 255], 'columns': {'lat0': 'start_latitude', 'lng0': 'start_longitude', 'lat1': 'end_latitude', 'lng1': 'end_longitude'}, 'isVisible': False, 'visConfig': {'opacity': 0.8, 'thickness': 2, 'colorRange': {'name': 'Global Warming', 'type': 'sequential', 'category': 'Uber', 'colors': ['#5A1846', '#900C3F', '#C70039', '#E3611C', '#F1920E', '#FFC300']}, 'sizeRange': [0, 10], 'targetColor': None}, 'hidden': False, 'textLabel': [{'field': None, 'color': [255, 255, 255], 'size': 18, 'offset': [0, 0], 'anchor': 'start', 'alignment': 'center', 'outlineWidth': 0, 'outlineColor': [255, 0, 0, 255], 'background': False, 'backgroundColor': [0, 0, 200, 255]}]}, 'visualChannels': {'colorField': None, 'colorScale': 'quantile', 'sizeField': None, 'sizeScale': 'linear'}}, {'id': 'msqo0jo', 'type': 'line', 'config': {'dataId': 'data_1', 'label': 'start -> end line', 'color': [137, 218, 193], 'highlightColor': [252, 242, 26, 255], 'columns': {'lat0': 'start_latitude', 'lng0': 'start_longitude', 'lat1': 'end_latitude', 'lng1': 'end_longitude'}, 'isVisible': False, 'visConfig': {'opacity': 0.8, 'thickness': 2, 'colorRange': {'name': 'Global Warming', 'type': 'sequential', 'category': 'Uber', 'colors': ['#5A1846', '#900C3F', '#C70039', '#E3611C', '#F1920E', '#FFC300']}, 'sizeRange': [0, 10], 'targetColor': None, 'elevationScale': 1}, 'hidden': False, 'textLabel': [{'field': None, 'color': [255, 255, 255], 'size': 18, 'offset': [0, 0], 'anchor': 'start', 'alignment': 'center', 'outlineWidth': 0, 'outlineColor': [255, 0, 0, 255], 'background': False, 'backgroundColor': [0, 0, 200, 255]}]}, 'visualChannels': {'colorField': None, 'colorScale': 'quantile', 'sizeField': None, 'sizeScale': 'linear'}}], 'effects': [], 'interactionConfig': {'tooltip': {'fieldsToShow': {'data_1': [{'name': 'start_station', 'format': None}, {'name': 'end_station', 'format': None}, {'name': 'trip_count', 'format': None}]}, 'compareMode': False, 'compareType': 'absolute', 'enabled': True}, 'brush': {'size': 0.5, 'enabled': False}, 'geocoder': {'enabled': False}, 'coordinate': {'enabled': False}}, 'layerBlending': 'normal', 'overlayBlending': 'normal', 'splitMaps': [], 'animationConfig': {'currentTime': None, 'speed': 1}, 'editor': {'features': [], 'visible': True}}, 'mapState': {'bearing': 0, 'dragRotate': False, 'latitude': 40.7578225, 'longitude': -73.9541365, 'pitch': 0, 'zoom': 10, 'isSplit': False, 'isViewportSynced': True, 'isZoomLocked': False, 'splitMapViewports': []}, 'mapStyle': {'styleType': 'dark-matter', 'topLayerGroups': {}, 'visibleLayerGroups': {'label': True, 'road': True, 'border': False, 'building': True, 'water': True, 'land': True, '3d building': False}, 'threeDBuildingColor': [15.035172933000911, 15.035172933000911, 15.035172933000911], 'backgroundColor': [0, 0, 0], 'mapStyles': {}}}}\n"
     ]
    }
   ],
   "source": [
    "print(config)"
   ]
  },
  {
   "cell_type": "code",
   "execution_count": 39,
   "id": "923a1535-db06-4f2b-a9d9-fbf683eb8171",
   "metadata": {},
   "outputs": [],
   "source": [
    "import json\n",
    "with open(\"config.json\", \"w\") as outfile:\n",
    "    json.dump(config, outfile)"
   ]
  },
  {
   "cell_type": "code",
   "execution_count": 40,
   "id": "fc54fce4-c43f-4f54-9a9f-a89ef8b99380",
   "metadata": {},
   "outputs": [
    {
     "name": "stdout",
     "output_type": "stream",
     "text": [
      "Map saved to NewYorkCitiBikeTripData.html!\n"
     ]
    }
   ],
   "source": [
    "m.save_to_html(file_name = 'NewYorkCitiBikeTripData.html', read_only = False, config = config)"
   ]
  }
 ],
 "metadata": {
  "kernelspec": {
   "display_name": "Python [conda env:venv_citibike]",
   "language": "python",
   "name": "conda-env-venv_citibike-py"
  },
  "language_info": {
   "codemirror_mode": {
    "name": "ipython",
    "version": 3
   },
   "file_extension": ".py",
   "mimetype": "text/x-python",
   "name": "python",
   "nbconvert_exporter": "python",
   "pygments_lexer": "ipython3",
   "version": "3.13.2"
  }
 },
 "nbformat": 4,
 "nbformat_minor": 5
}
