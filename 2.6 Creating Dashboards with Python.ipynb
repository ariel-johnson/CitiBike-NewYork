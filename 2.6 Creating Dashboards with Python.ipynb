{
 "cells": [
  {
   "cell_type": "markdown",
   "id": "36e0f5c2-049f-4ee1-9d68-cd938d23aa26",
   "metadata": {},
   "source": [
    "## 2.6 Building Dashboards with Streamlit"
   ]
  },
  {
   "cell_type": "markdown",
   "id": "a8ed33a0-09a9-4cee-b274-e6b674b32b55",
   "metadata": {},
   "source": [
    "### Importing libraries and data"
   ]
  },
  {
   "cell_type": "code",
   "execution_count": null,
   "id": "8ef77539-63d1-4280-9cc0-0cdc20e3f628",
   "metadata": {},
   "outputs": [],
   "source": [
    "# Import libraries\n",
    "import streamlit as st\n",
    "import pandas as pd\n",
    "import numpy as np\n",
    "import plotly.express as px\n",
    "from plotly.subplots import make_subplots\n",
    "import plotly.graph_objects as go\n",
    "import matplotlib.pyplot as plt\n",
    "from datetime import datetime as dt\n",
    "from streamlit_keplergl import keplergl_static"
   ]
  },
  {
   "cell_type": "code",
   "execution_count": null,
   "id": "b3ae9f9e-c6cb-432c-b671-cc1306b52474",
   "metadata": {},
   "outputs": [],
   "source": [
    "# Import data\n",
    "df = pd.read_csv('sampleset_citibike.csv', low_memory=False)"
   ]
  },
  {
   "cell_type": "markdown",
   "id": "5732638e-ea6f-41f3-bb54-1e58f977d595",
   "metadata": {},
   "source": [
    "### Check data for any additional wrangling"
   ]
  },
  {
   "cell_type": "code",
   "execution_count": null,
   "id": "4e13320b-6d39-4664-99d3-273b86d66aa8",
   "metadata": {},
   "outputs": [],
   "source": [
    "df.dtypes"
   ]
  },
  {
   "cell_type": "code",
   "execution_count": null,
   "id": "7ee63257-1522-4d86-92d8-23deac14c73e",
   "metadata": {},
   "outputs": [],
   "source": [
    "# Drop unnecessary columns\n",
    "df = df.drop(columns=['Unnamed: 0'])"
   ]
  },
  {
   "cell_type": "code",
   "execution_count": null,
   "id": "1ca22687-92f0-468b-923a-01a66ad5cbd3",
   "metadata": {},
   "outputs": [],
   "source": [
    "# Convert 'start_time' and 'end_time' to datetime\n",
    "df['start_time'] = pd.to_datetime(df['start_time'], errors='coerce')\n",
    "df['end_time'] = pd.to_datetime(df['end_time'], errors='coerce')"
   ]
  },
  {
   "cell_type": "code",
   "execution_count": null,
   "id": "209652da-1bbc-4af2-9a8c-c9f2a57343d7",
   "metadata": {},
   "outputs": [],
   "source": [
    "# 7. Rename columns\n",
    "df = df.rename(columns={'rideable_type': 'bike_type', 'member_casual': 'membership_type'})"
   ]
  },
  {
   "cell_type": "code",
   "execution_count": null,
   "id": "079fffaa-1fea-4a5d-847b-f265b8c41864",
   "metadata": {},
   "outputs": [],
   "source": [
    "df.head()"
   ]
  },
  {
   "cell_type": "code",
   "execution_count": null,
   "id": "710224e8-2bf5-44c8-a332-f446f947ac9d",
   "metadata": {},
   "outputs": [],
   "source": [
    "# Create the season column\n",
    "\n",
    "df['season'] = [\n",
    "\"winter\" if (start_month == 12 or 1 <= start_month <= 4)\n",
    "    else \"spring\" if (4 < start_month <= 5)\n",
    "    else \"summer\" if (6 <= start_month <= 9)\n",
    "    else \"fall\"\n",
    "for start_month in df['start_month']\n",
    "    ]"
   ]
  },
  {
   "cell_type": "code",
   "execution_count": null,
   "id": "f2f6f56c-23d1-4aac-bf15-1e8f3b4c1149",
   "metadata": {},
   "outputs": [],
   "source": [
    "print(df[['season', 'start_month']].head())"
   ]
  },
  {
   "cell_type": "code",
   "execution_count": null,
   "id": "a1659c0c-0510-43a7-aa96-22a7ac08e836",
   "metadata": {},
   "outputs": [],
   "source": [
    "df.shape"
   ]
  },
  {
   "cell_type": "code",
   "execution_count": null,
   "id": "efc5d6fc-f673-40c0-958a-0e8a523d3080",
   "metadata": {},
   "outputs": [],
   "source": [
    "# Getting rid of outliers in the ride_duration column\n",
    "# Calculate Q1 and Q3\n",
    "Q1 = df['ride_duration'].quantile(0.25)\n",
    "Q3 = df['ride_duration'].quantile(0.75)"
   ]
  },
  {
   "cell_type": "code",
   "execution_count": null,
   "id": "e8fc90bf-5f2a-49de-864e-1529bb93bf44",
   "metadata": {},
   "outputs": [],
   "source": [
    "# Calculate IQR\n",
    "IQR = Q3 - Q1"
   ]
  },
  {
   "cell_type": "code",
   "execution_count": null,
   "id": "233934ec-a0a9-4833-9679-e840cd7861c3",
   "metadata": {},
   "outputs": [],
   "source": [
    "# Define lower and upper bounds\n",
    "lower_bound = Q1 - 1.5 * IQR\n",
    "upper_bound = Q3 + 1.5 * IQR"
   ]
  },
  {
   "cell_type": "code",
   "execution_count": null,
   "id": "05da53aa-662b-4c59-bf24-d30323c51edc",
   "metadata": {},
   "outputs": [],
   "source": [
    "# Filter out the outliers\n",
    "df_filtered = df[(df['ride_duration'] >= lower_bound) & (df['ride_duration'] <= upper_bound)]"
   ]
  },
  {
   "cell_type": "code",
   "execution_count": null,
   "id": "2a0095f0-1b55-4f63-bffd-283a1a9a1134",
   "metadata": {},
   "outputs": [],
   "source": [
    "# Groupby the count of the rides \n",
    "df_group = pd.DataFrame(df.groupby(['date'])['ride_id'].count()).reset_index()"
   ]
  },
  {
   "cell_type": "code",
   "execution_count": null,
   "id": "14e068a4-4911-4fd4-8995-de692471e214",
   "metadata": {},
   "outputs": [],
   "source": [
    "df_group.head()"
   ]
  },
  {
   "cell_type": "code",
   "execution_count": null,
   "id": "7030a7f6-444c-44b4-b93d-926acc067357",
   "metadata": {},
   "outputs": [],
   "source": [
    "df_group.rename(columns = {'ride_id':'bike_rides_daily'}, inplace = True)\n",
    "df = df.merge(df_group, on = \"date\", how = 'outer', indicator = True)\n",
    "print(df['_merge'].value_counts(dropna = False))\n",
    "print(\"Shape of January 1st is\", df[df['date'] == '2022-01-01'].shape) # Check \n",
    "print(\"Shape of January 2nd is\", df[df['date'] == '2022-01-02'].shape) # Second check \n",
    "\n",
    "df_temp = df.set_index('date')\n",
    "\n",
    "print(df_temp.columns)"
   ]
  },
  {
   "cell_type": "code",
   "execution_count": null,
   "id": "510f1528-ee1a-4b48-ad06-681ea3d51716",
   "metadata": {},
   "outputs": [],
   "source": [
    "df = df_temp"
   ]
  },
  {
   "cell_type": "code",
   "execution_count": null,
   "id": "442cc716-cc82-42c3-98b7-5bc03daab925",
   "metadata": {},
   "outputs": [],
   "source": [
    "df.reset_index(inplace=True)"
   ]
  },
  {
   "cell_type": "code",
   "execution_count": null,
   "id": "69beca9f-628a-400a-8de6-b4439ea7ca37",
   "metadata": {},
   "outputs": [],
   "source": [
    "df.columns"
   ]
  },
  {
   "cell_type": "code",
   "execution_count": null,
   "id": "5eb1d172-1cbc-4633-b106-19db942c80ba",
   "metadata": {},
   "outputs": [],
   "source": [
    "# Drop the '_merge' column in place\n",
    "df.drop(columns=['_merge'], inplace=True)"
   ]
  },
  {
   "cell_type": "code",
   "execution_count": null,
   "id": "ebfa1c65-b7ee-438e-ab59-991af13b7822",
   "metadata": {},
   "outputs": [],
   "source": [
    "df.to_csv('dataset_wrangledsample.csv')"
   ]
  },
  {
   "cell_type": "markdown",
   "id": "5c7cd805-8fbc-43b8-84f3-8ffb2b4a0f58",
   "metadata": {},
   "source": [
    "### Create the Plotly charts"
   ]
  },
  {
   "cell_type": "code",
   "execution_count": null,
   "id": "74ba3dac-9070-422d-9c0a-ac1f1d6d604a",
   "metadata": {},
   "outputs": [],
   "source": [
    "# Groupby\n",
    "df['value'] = 1 \n",
    "df_groupby_bar = df.groupby('start_station_name', as_index=False).agg({'value': 'sum'})\n",
    "top20 = df_groupby_bar.nlargest(20, 'value')"
   ]
  },
  {
   "cell_type": "code",
   "execution_count": null,
   "id": "818ad067-11c9-4f60-affc-3bf22c25c39d",
   "metadata": {},
   "outputs": [],
   "source": [
    "fig = go.Figure(go.Bar(x = top20['start_station_name'], y = top20['value']))\n",
    "fig.show()"
   ]
  },
  {
   "cell_type": "code",
   "execution_count": null,
   "id": "f59822de-3a0d-493e-a762-1948909f4065",
   "metadata": {},
   "outputs": [],
   "source": [
    "fig = go.Figure(go.Bar(x = top20['start_station_name'], y = top20['value'], marker={'color': top20['value'],'colorscale': 'Blues'}))\n",
    "fig.show()"
   ]
  },
  {
   "cell_type": "code",
   "execution_count": null,
   "id": "c26236ed-bad5-4381-b67e-15830681f11d",
   "metadata": {},
   "outputs": [],
   "source": [
    "fig.update_layout(\n",
    "    title='Top 20 most popular bike stations in New York',\n",
    "    xaxis_title='Start stations',\n",
    "    yaxis_title='Sum of trips',\n",
    "    width=900, height=600,\n",
    "    plot_bgcolor='rgba(0,0,0,0)', \n",
    "    paper_bgcolor='rgba(255, 255, 255, 0.8)',\n",
    ")\n",
    "\n",
    "fig.update_traces(marker=dict(colorscale='Purples')) \n",
    "\n",
    "fig.show()"
   ]
  },
  {
   "cell_type": "code",
   "execution_count": null,
   "id": "aefa0ada-759e-41a8-b997-987b086bafdf",
   "metadata": {},
   "outputs": [],
   "source": [
    "df.columns"
   ]
  },
  {
   "cell_type": "code",
   "execution_count": null,
   "id": "53eea85a-796b-43ce-8b70-080aba2c46c1",
   "metadata": {},
   "outputs": [],
   "source": [
    "# Setting up line chart code in seprate executions as to not overflow memory\n",
    "def setup_plot():\n",
    "    from plotly.subplots import make_subplots\n",
    "    import plotly.graph_objects as go\n",
    "    fig = make_subplots(specs=[[{\"secondary_y\": True}]])\n",
    "    return fig"
   ]
  },
  {
   "cell_type": "code",
   "execution_count": null,
   "id": "b2e9c4d5-d9b5-410b-a006-0e3cea67710e",
   "metadata": {},
   "outputs": [],
   "source": [
    "# Adding Bike Rides Trace\n",
    "def add_bike_rides_trace(fig, df):\n",
    "    fig.add_trace(\n",
    "        go.Scatter(\n",
    "            x=df['date'], \n",
    "            y=df['bike_rides_daily'], \n",
    "            name='Daily bike rides',\n",
    "            line=dict(color='blue')  # Set the color for the bike rides trace\n",
    "        ),\n",
    "        secondary_y=False\n",
    "    )"
   ]
  },
  {
   "cell_type": "code",
   "execution_count": null,
   "id": "e8a6202e-2506-4a9a-8ca3-cd2340e17b12",
   "metadata": {},
   "outputs": [],
   "source": [
    "# Adding Temperature Trace\n",
    "def add_temperature_trace(fig, df):\n",
    "    fig.add_trace(\n",
    "        go.Scatter(\n",
    "            x=df['date'], \n",
    "            y=df['avgTemp'], \n",
    "            name='Daily temperature',\n",
    "            line=dict(color='red')  # Set the color for the temperature trace\n",
    "        ),\n",
    "        secondary_y=True\n",
    "    )"
   ]
  },
  {
   "cell_type": "code",
   "execution_count": null,
   "id": "3971cfa8-1fe6-4518-8267-ca944bd2c817",
   "metadata": {},
   "outputs": [],
   "source": [
    "# Finalizing Plot\n",
    "def finalize_plot(fig):\n",
    "    fig.update_layout(\n",
    "        title='Daily Bike Rides and Temperature',\n",
    "        xaxis_title='Date',\n",
    "        yaxis_title='Bike Rides',\n",
    "        yaxis2_title='Temperature',\n",
    "        width=900,\n",
    "        height=600\n",
    "    )\n",
    "    fig.show()"
   ]
  },
  {
   "cell_type": "code",
   "execution_count": null,
   "id": "4518277a-bbeb-478d-9a44-69f91a956abc",
   "metadata": {},
   "outputs": [],
   "source": [
    "# Main function to execute all chunks\n",
    "def main():\n",
    "    fig = setup_plot()  \n",
    "    add_bike_rides_trace(fig, df) \n",
    "    add_temperature_trace(fig, df)  \n",
    "    finalize_plot(fig) "
   ]
  },
  {
   "cell_type": "code",
   "execution_count": null,
   "id": "197cbf19-7dab-49e5-bd15-e356429e961c",
   "metadata": {},
   "outputs": [],
   "source": [
    "main()"
   ]
  },
  {
   "cell_type": "code",
   "execution_count": null,
   "id": "f7a6565a-a510-40a8-ba1e-a25b5f2160a9",
   "metadata": {},
   "outputs": [],
   "source": [
    "import gc # this is a garbage collector\n",
    "gc.collect()"
   ]
  },
  {
   "cell_type": "code",
   "execution_count": null,
   "id": "fe019fc3-eceb-40ab-bb56-89ddb4138612",
   "metadata": {},
   "outputs": [],
   "source": [
    "# Save the top 20 stations as a csv file \n",
    "\n",
    "top20.to_csv('top20.csv')"
   ]
  }
 ],
 "metadata": {
  "kernelspec": {
   "display_name": "Python [conda env:venv_citibike]",
   "language": "python",
   "name": "conda-env-venv_citibike-py"
  },
  "language_info": {
   "codemirror_mode": {
    "name": "ipython",
    "version": 3
   },
   "file_extension": ".py",
   "mimetype": "text/x-python",
   "name": "python",
   "nbconvert_exporter": "python",
   "pygments_lexer": "ipython3",
   "version": "3.13.2"
  }
 },
 "nbformat": 4,
 "nbformat_minor": 5
}
